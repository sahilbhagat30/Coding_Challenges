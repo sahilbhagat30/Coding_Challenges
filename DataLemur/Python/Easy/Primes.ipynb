{
 "cells": [
  {
   "cell_type": "code",
   "execution_count": 1,
   "id": "f88193e8",
   "metadata": {},
   "outputs": [],
   "source": [
    "def is_prime(n):\n",
    "    \n",
    "    # Deal with special cases\n",
    "    if n == 0 or n == 1:\n",
    "        return False\n",
    "    \n",
    "    # Loop through all numbers between 2 and n - 1, and check if n is NOT prime\n",
    "    i = 2\n",
    "    while i < n:\n",
    "        if n % i == 0:\n",
    "            return False\n",
    "        i = i + 1\n",
    "    \n",
    "    # If the program reached this point, that means the number is prime\n",
    "    return True  "
   ]
  },
  {
   "cell_type": "code",
   "execution_count": null,
   "id": "cfe92b30",
   "metadata": {},
   "outputs": [
    {
     "data": {
      "text/plain": [
       "False"
      ]
     },
     "execution_count": 2,
     "metadata": {},
     "output_type": "execute_result"
    }
   ],
   "source": [
    "is_prime(123)"
   ]
  },
  {
   "cell_type": "code",
   "execution_count": null,
   "id": "e5279165",
   "metadata": {},
   "outputs": [
    {
     "data": {
      "text/plain": [
       "True"
      ]
     },
     "execution_count": 3,
     "metadata": {},
     "output_type": "execute_result"
    }
   ],
   "source": [
    "is_prime(827)"
   ]
  },
  {
   "cell_type": "markdown",
   "id": "c6a6a011",
   "metadata": {},
   "source": [
    "## Count the number of primes in the range of 100 to 151, inclusive"
   ]
  },
  {
   "cell_type": "code",
   "execution_count": 4,
   "id": "4a815756",
   "metadata": {},
   "outputs": [
    {
     "name": "stdout",
     "output_type": "stream",
     "text": [
      "11\n"
     ]
    }
   ],
   "source": [
    "count = 0\n",
    "\n",
    "for i in range(100, 152):\n",
    "    if is_prime(i):\n",
    "        count = count + 1\n",
    "\n",
    "print(count)"
   ]
  },
  {
   "cell_type": "code",
   "execution_count": 5,
   "id": "d157c697",
   "metadata": {},
   "outputs": [
    {
     "name": "stdout",
     "output_type": "stream",
     "text": [
      "313\n"
     ]
    }
   ],
   "source": [
    "l = [326, 303, 313, 351]\n",
    "\n",
    "for i in l:\n",
    "    if is_prime(i):\n",
    "        print(i)"
   ]
  },
  {
   "cell_type": "markdown",
   "id": "1cca11c6",
   "metadata": {},
   "source": [
    "## Improve in the function code a bit (Optional)"
   ]
  },
  {
   "cell_type": "code",
   "execution_count": 6,
   "id": "1e464daa",
   "metadata": {},
   "outputs": [],
   "source": [
    "# Import this library so we can calculate square roots\n",
    "import math\n",
    "\n",
    "def is_prime_improved(n):\n",
    "    \n",
    "    # Deal with special cases\n",
    "    if n == 0 or n == 1:\n",
    "        return False\n",
    "    \n",
    "    # Loop through all numbers between 2 and the square root of n, and check if n is NOT prime\n",
    "    # If n is divisible by any number greater than sqrt(n), \n",
    "    # its counterpart in the product would be a number smaller than sqrt(n),\n",
    "    # and thus, we would have already checked it\n",
    "    i = 2\n",
    "    while i <= math.sqrt(n):\n",
    "        if n % i == 0:\n",
    "            return False\n",
    "        i = i + 1\n",
    "    \n",
    "    # If the program reached this point, that means the number is prime\n",
    "    return True  "
   ]
  },
  {
   "cell_type": "code",
   "execution_count": null,
   "id": "13e35a4a",
   "metadata": {},
   "outputs": [],
   "source": []
  }
 ],
 "metadata": {
  "kernelspec": {
   "display_name": "Python 3 (ipykernel)",
   "language": "python",
   "name": "python3"
  },
  "language_info": {
   "codemirror_mode": {
    "name": "ipython",
    "version": 3
   },
   "file_extension": ".py",
   "mimetype": "text/x-python",
   "name": "python",
   "nbconvert_exporter": "python",
   "pygments_lexer": "ipython3",
   "version": "3.9.7"
  }
 },
 "nbformat": 4,
 "nbformat_minor": 5
}
